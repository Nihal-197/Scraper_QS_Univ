{
 "cells": [
  {
   "cell_type": "code",
   "execution_count": null,
   "metadata": {
    "collapsed": true
   },
   "outputs": [],
   "source": [
    "import pandas as pd\n",
    "from selenium import webdriver\n",
    "from selenium.webdriver.common.by import By\n",
    "from selenium.webdriver.support.ui import WebDriverWait\n",
    "from selenium.webdriver.support import expected_conditions as EC\n",
    "from selenium.webdriver.chrome.options import Options\n",
    "from selenium.webdriver.common.keys import Keys\n",
    "from selenium.webdriver.common.action_chains import ActionChains\n",
    "import os\n",
    "import re\n",
    "import numpy as np\n",
    "options = Options()\n",
    "options.add_argument(\"--start-maximized\")\n",
    "options.add_argument(\"--disable-notifications\")\n",
    "import warnings\n",
    "warnings.filterwarnings('ignore')"
   ]
  },
  {
   "cell_type": "code",
   "execution_count": null,
   "metadata": {
    "collapsed": true
   },
   "outputs": [],
   "source": [
    "browser= webdriver.Chrome('C:\\Selenium\\chromedriver', chrome_options=options)\n",
    "url=r'https://www.topuniversities.com/university-rankings/world-university-rankings/2019'\n",
    "browser.get(url)"
   ]
  },
  {
   "cell_type": "code",
   "execution_count": null,
   "metadata": {
    "collapsed": true
   },
   "outputs": [],
   "source": [
    "browser.execute_script(\"window.scrollTo(0, 250)\") \n",
    "hover_elem = browser.find_element_by_xpath('//*[@id=\"cid-410\"]/td[2]/div/a[1]')\n",
    "hover = ActionChains(browser).move_to_element(hover_elem)\n",
    "hover.perform() "
   ]
  },
  {
   "cell_type": "code",
   "execution_count": null,
   "metadata": {
    "collapsed": true
   },
   "outputs": [],
   "source": [
    "drop=browser.find_element_by_xpath('//*[@id=\"qs-rankings\"]/thead/tr[3]/td[3]/div/div/span[2]/span[2]')\n",
    "hover = ActionChains(browser).move_to_element(drop)\n",
    "hover.perform()\n",
    "drop.click() "
   ]
  },
  {
   "cell_type": "code",
   "execution_count": null,
   "metadata": {
    "collapsed": true
   },
   "outputs": [],
   "source": [
    "#list of items in the drop down menu\n",
    "a=browser.find_elements_by_class_name('jcf-option')"
   ]
  },
  {
   "cell_type": "code",
   "execution_count": null,
   "metadata": {
    "collapsed": true
   },
   "outputs": [],
   "source": [
    "scroll = browser.find_element_by_xpath('//*[@id=\"qs-rankings_length\"]/label/span[2]/span[2]')\n",
    "element_to_hover_over = scroll\n",
    "hover_scroll = ActionChains(browser).move_to_element(element_to_hover_over)\n",
    "hover_scroll.perform()\n",
    "scroll.click()"
   ]
  },
  {
   "cell_type": "code",
   "execution_count": null,
   "metadata": {},
   "outputs": [],
   "source": [
    "def input_region(region):\n",
    "    for i in range(len(a)):\n",
    "        if i<7 and a[i].text==region:\n",
    "            print(a[i].text)\n",
    "            a[i].click()\n",
    "            break\n",
    "\n",
    "input_region('Asia')"
   ]
  },
  {
   "cell_type": "code",
   "execution_count": null,
   "metadata": {
    "collapsed": true
   },
   "outputs": [],
   "source": [
    "#Standard Function for search\n",
    "\n",
    "# def uni_search_by_name(uni_name):\n",
    "#     uni_search=browser.find_element_by_xpath('//*[@id=\"qs-rankings\"]/thead/tr[3]/td[2]/div/input')\n",
    "#     uni_name=input('Enter_uni_name: ')\n",
    "#     uni_search.send_keys(uni_name)\n",
    "#     #Range of other functions doing their stuff here\n",
    "    \n",
    "    "
   ]
  },
  {
   "cell_type": "code",
   "execution_count": null,
   "metadata": {
    "collapsed": true
   },
   "outputs": [],
   "source": [
    "#get all the results in a page\n",
    "\n",
    "scr_all_menu=browser.find_element_by_xpath('//*[@id=\"qs-rankings_length\"]/label/span[2]/span[2]')\n",
    "hover_scroll = ActionChains(browser).move_to_element(scr_all_menu)\n",
    "hover_scroll.perform()\n",
    "scr_all_menu.click()\n",
    "\n",
    "scr_all=browser.find_element_by_xpath('//*[@id=\"qs-rankings_length\"]/label/span[2]/div/div/span/span/ul/li[5]/span')\n",
    "hover_scroll = ActionChains(browser).move_to_element(scr_all)\n",
    "hover_scroll.perform()\n",
    "scr_all.click()\n"
   ]
  },
  {
   "cell_type": "code",
   "execution_count": null,
   "metadata": {
    "collapsed": true
   },
   "outputs": [],
   "source": [
    "#getting the list of universities\n",
    "def get_uni():\n",
    "    get_uni.list_uni=browser.find_elements_by_class_name('title')\n",
    "    uni=[]\n",
    "    for i in range(len(get_uni.list_uni)):\n",
    "        uni.append(get_uni.list_uni[i].text)\n",
    "    return uni\n",
    "uni= get_uni()\n"
   ]
  },
  {
   "cell_type": "code",
   "execution_count": null,
   "metadata": {
    "collapsed": true
   },
   "outputs": [],
   "source": [
    "#getting the ranks of universities\n",
    "def get_rank():\n",
    "    list_rank=browser.find_elements_by_class_name('rank')\n",
    "    rank_list=[]\n",
    "    for i in range(int(len(list_rank)/2)):\n",
    "        if i>0:\n",
    "            if list_rank[i*2+1].text!='':\n",
    "                rank_list.append(list_rank[i*2+1].text)\n",
    "#                 if bool(re.search('=',list_rank[i*2+1].text)):\n",
    "#                     rank_list.append(re.findall('\\d{1,5}',list_rank[i*2+1].text)\n",
    "#                 else :       \n",
    "            else:\n",
    "                break\n",
    "    return rank_list\n",
    "rank = get_rank()"
   ]
  },
  {
   "cell_type": "code",
   "execution_count": null,
   "metadata": {
    "collapsed": true
   },
   "outputs": [],
   "source": [
    "#finding the country \n",
    "# k=1\n",
    "def get_country():\n",
    "    list_cntry=browser.find_elements_by_class_name('td-wrap')\n",
    "    ctry_list=[]\n",
    "    for i in range(int((len(list_cntry)-15)/5)):\n",
    "        j=i*5+15+2\n",
    "        if list_cntry[j].text!='':\n",
    "            ctry_list.append(list_cntry[j].text)\n",
    "    return ctry_list\n",
    "ctry = get_country()\n"
   ]
  },
  {
   "cell_type": "code",
   "execution_count": null,
   "metadata": {
    "collapsed": true
   },
   "outputs": [],
   "source": [
    "def uni_data(ctry,rank,uni):\n",
    "    df_ctry = pd.DataFrame(ctry,columns=['Country'])\n",
    "    df_rank = pd.DataFrame(rank,columns=['Rank'])\n",
    "    df_uni = pd.DataFrame(uni,columns=['University'])\n",
    "    df=pd.concat([df_rank,df_ctry,df_uni],axis=1)\n",
    "    return df"
   ]
  },
  {
   "cell_type": "code",
   "execution_count": null,
   "metadata": {
    "collapsed": true
   },
   "outputs": [],
   "source": [
    "def uni_info(rank):\n",
    "    get_uni.list_uni[rank+1].click()"
   ]
  },
  {
   "cell_type": "code",
   "execution_count": null,
   "metadata": {
    "collapsed": true
   },
   "outputs": [],
   "source": [
    "#to fetch all para\n",
    "def fetch_para():\n",
    "    browser.find_element_by_class_name('more-link').click()\n",
    "    para= browser.find_elements_by_class_name('field-profile-overview')\n",
    "    list_paras = para[1].find_elements_by_tag_name('p')\n",
    "    para_str=''\n",
    "    for i in range(len(list_paras)-1):\n",
    "        para_str+=list_paras[i].text\n",
    "    return para_str"
   ]
  },
  {
   "cell_type": "code",
   "execution_count": null,
   "metadata": {
    "collapsed": true
   },
   "outputs": [],
   "source": [
    "def details():\n",
    "    val = browser.find_elements_by_class_name('val')\n",
    "    lab = browser.find_elements_by_class_name('lab')\n",
    "    lab_list=[]\n",
    "    val_list=[]\n",
    "    for i in range(len(val)-1):\n",
    "        val_list.append(val[i].text)\n",
    "        lab_list.append(lab[i].text)\n",
    "    return pd.DataFrame.from_dict(data=dict(zip(lab_list,val_list)),orient='index').T\n",
    "details_df=details()"
   ]
  },
  {
   "cell_type": "code",
   "execution_count": null,
   "metadata": {
    "collapsed": true
   },
   "outputs": [],
   "source": [
    "def location():\n",
    "    locality = browser.find_element_by_class_name('locality').text\n",
    "    state = browser.find_element_by_class_name('state').text\n",
    "    pin = browser.find_element_by_class_name('postal-code').text\n",
    "    country = browser.find_elements_by_class_name('country')[1].text\n",
    "    return pd.DataFrame.from_dict({'locality':locality,'State':state,'PIN':pin,\"Country\":country},orient='index').T\n",
    "loc_df =location()"
   ]
  },
  {
   "cell_type": "code",
   "execution_count": null,
   "metadata": {
    "scrolled": true
   },
   "outputs": [],
   "source": [
    "def com_details():\n",
    "    return pd.concat([details(),location()],axis=1)\n",
    "df=com_details()\n",
    "df"
   ]
  },
  {
   "cell_type": "code",
   "execution_count": null,
   "metadata": {},
   "outputs": [],
   "source": [
    "def google_the_link(uni_name):\n",
    "    browser.execute_script('''window.open(\"http://google.com\",\"_blank\");''')\n",
    "    #windows_before  = browser.current_window_handle\n",
    "    #print(\"First Window Handle is : %s\" %windows_before)\n",
    "    browser.switch_to_window(browser.window_handles[-1])\n",
    "    search_name=WebDriverWait(browser, 3).until(EC.presence_of_element_located((By.NAME, 'q')))\n",
    "    search_name.send_keys(uni_name)\n",
    "    browser.find_element_by_id('lga').click()\n",
    "    browser.find_element_by_xpath('//*[@id=\"tsf\"]/div[2]/div/div[3]/center/input[1]').click()\n",
    "    WebDriverWait(browser, 5).until(EC.presence_of_element_located((By.CLASS_NAME, 'q')))\n",
    "    sag=browser.find_elements_by_class_name('r')\n",
    "    #link (First Search result)\n",
    "    link = sag[0].find_element_by_tag_name('a').get_attribute('href')\n",
    "    return link\n",
    "    \n"
   ]
  },
  {
   "cell_type": "code",
   "execution_count": null,
   "metadata": {
    "collapsed": true
   },
   "outputs": [],
   "source": [
    "df['Link']=google_the_link(uni_name)"
   ]
  },
  {
   "cell_type": "code",
   "execution_count": null,
   "metadata": {
    "collapsed": true
   },
   "outputs": [],
   "source": []
  },
  {
   "cell_type": "code",
   "execution_count": null,
   "metadata": {
    "collapsed": true
   },
   "outputs": [],
   "source": []
  },
  {
   "cell_type": "code",
   "execution_count": null,
   "metadata": {
    "collapsed": true
   },
   "outputs": [],
   "source": []
  },
  {
   "cell_type": "code",
   "execution_count": null,
   "metadata": {
    "collapsed": true
   },
   "outputs": [],
   "source": []
  },
  {
   "cell_type": "code",
   "execution_count": null,
   "metadata": {
    "collapsed": true
   },
   "outputs": [],
   "source": []
  },
  {
   "cell_type": "code",
   "execution_count": null,
   "metadata": {
    "collapsed": true
   },
   "outputs": [],
   "source": []
  },
  {
   "cell_type": "code",
   "execution_count": null,
   "metadata": {
    "collapsed": true
   },
   "outputs": [],
   "source": []
  },
  {
   "cell_type": "code",
   "execution_count": null,
   "metadata": {
    "collapsed": true
   },
   "outputs": [],
   "source": []
  },
  {
   "cell_type": "code",
   "execution_count": null,
   "metadata": {
    "collapsed": true
   },
   "outputs": [],
   "source": []
  },
  {
   "cell_type": "code",
   "execution_count": null,
   "metadata": {
    "collapsed": true
   },
   "outputs": [],
   "source": []
  },
  {
   "cell_type": "code",
   "execution_count": null,
   "metadata": {
    "collapsed": true
   },
   "outputs": [],
   "source": []
  },
  {
   "cell_type": "code",
   "execution_count": null,
   "metadata": {
    "collapsed": true
   },
   "outputs": [],
   "source": []
  },
  {
   "cell_type": "code",
   "execution_count": null,
   "metadata": {
    "collapsed": true
   },
   "outputs": [],
   "source": []
  }
 ],
 "metadata": {
  "kernelspec": {
   "display_name": "Python 3",
   "language": "python",
   "name": "python3"
  },
  "language_info": {
   "codemirror_mode": {
    "name": "ipython",
    "version": 3
   },
   "file_extension": ".py",
   "mimetype": "text/x-python",
   "name": "python",
   "nbconvert_exporter": "python",
   "pygments_lexer": "ipython3",
   "version": "3.6.3"
  }
 },
 "nbformat": 4,
 "nbformat_minor": 2
}
